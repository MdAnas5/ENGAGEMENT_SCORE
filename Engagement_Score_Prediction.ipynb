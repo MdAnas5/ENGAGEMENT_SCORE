{
  "cells": [
    {
      "cell_type": "markdown",
      "metadata": {
        "id": "pA_IOxcmzrKu"
      },
      "source": [
        "#Problem Statement\n",
        "\n",
        "ABC is an online content sharing platform that enables users to create, upload and share the content in the form of videos. It includes videos from different genres like entertainment, education, sports, technology and so on. The maximum duration of video is 10 minutes.\n",
        "\n",
        "Users can like, comment and share the videos on the platform. \n",
        "\n",
        "Based on the user’s interaction with the videos, engagement score is assigned to the video with respect to each user. Engagement score defines how engaging the content of the video is. \n",
        "\n",
        "Understanding the engagement score of the video improves the user’s interaction with the platform. It defines the type of content that is appealing to the user and engages the larger audience."
      ]
    },
    {
      "cell_type": "markdown",
      "metadata": {
        "id": "Dn0anoAXzxuV"
      },
      "source": [
        "#Objective\n",
        "The main objective of the problem is to develop the machine learning approach to predict the engagement score of the video on the user level."
      ]
    },
    {
      "cell_type": "code",
      "execution_count": 1,
      "metadata": {
        "colab": {
          "base_uri": "https://localhost:8080/"
        },
        "id": "DTUNaeDSzhji",
        "outputId": "d4363e68-affc-4f18-9bee-5d83f02db017"
      },
      "outputs": [
        {
          "output_type": "stream",
          "name": "stdout",
          "text": [
            "Mounted at /content/drive\n"
          ]
        }
      ],
      "source": [
        "# First of all importing the required libraries\n",
        "import pandas as pd\n",
        "import numpy as np\n",
        "import seaborn as sns\n",
        "import matplotlib.pyplot as plt\n",
        "%matplotlib inline\n",
        "import warnings\n",
        "warnings.filterwarnings(\"ignore\")\n",
        "from google.colab import drive\n",
        "drive.mount('/content/drive', force_remount=True)"
      ]
    },
    {
      "cell_type": "code",
      "execution_count": 2,
      "metadata": {
        "id": "peLNmcNCzswc",
        "colab": {
          "base_uri": "https://localhost:8080/"
        },
        "outputId": "e1c7a2cf-eb52-48e2-ed26-d79f9ec49de1"
      },
      "outputs": [
        {
          "output_type": "execute_result",
          "data": {
            "text/plain": [
              "(       row_id  user_id  category_id  ...            profession  followers views\n",
              " 0       89198     7986           12  ...               Student        180   138\n",
              " 1       89199    11278           34  ...               Student        230   840\n",
              " 2       89200    17245            8  ...  Working Professional        280   628\n",
              " 3       89201     9851           16  ...               Student        270   462\n",
              " 4       89202    16008           34  ...                 Other        230   840\n",
              " ...       ...      ...          ...  ...                   ...        ...   ...\n",
              " 11116  100314    26336           25  ...               Student        240   317\n",
              " 11117  100315     6772            8  ...               Student        280   628\n",
              " 11118  100316     2042           16  ...               Student        270   462\n",
              " 11119  100317    24626            8  ...                 Other        280   628\n",
              " 11120  100318      967            8  ...  Working Professional        280   628\n",
              " \n",
              " [11121 rows x 9 columns],\n",
              "        row_id  user_id  category_id  ...  followers  views engagement_score\n",
              " 0           1    19990           37  ...        180   1000             4.33\n",
              " 1           2     5304           32  ...        330    714             1.79\n",
              " 2           3     1840           12  ...        180    138             4.35\n",
              " 3           4    12597           23  ...        220    613             3.77\n",
              " 4           5    13626           23  ...        220    613             3.13\n",
              " ...       ...      ...          ...  ...        ...    ...              ...\n",
              " 89192   89193    23996           15  ...        340    662             3.91\n",
              " 89193   89194    20466           20  ...        240    892             3.56\n",
              " 89194   89195    13655           16  ...        270    462             4.23\n",
              " 89195   89196    24840            9  ...        230    819             3.77\n",
              " 89196   89197    27183           25  ...        240    317             4.31\n",
              " \n",
              " [89197 rows x 10 columns])"
            ]
          },
          "metadata": {},
          "execution_count": 2
        }
      ],
      "source": [
        "# reading the file from G drive\n",
        "train = pd.read_csv(\"/content/drive/My Drive/Engagement Score Prediction/train.csv\")\n",
        "test = pd.read_csv(\"/content/drive/My Drive/Engagement Score Prediction/test.csv\")\n",
        "# train['data'] = 'train'\n",
        "# test['data'] = 'test'\n",
        "test, train"
      ]
    },
    {
      "cell_type": "code",
      "source": [
        "# label \n",
        "outcome = train['engagement_score']\n",
        "outcome"
      ],
      "metadata": {
        "colab": {
          "base_uri": "https://localhost:8080/"
        },
        "id": "7PTgTHhUFp7M",
        "outputId": "2a7fd89a-4d6d-40b3-cc83-280a23832670"
      },
      "execution_count": 3,
      "outputs": [
        {
          "output_type": "execute_result",
          "data": {
            "text/plain": [
              "0        4.33\n",
              "1        1.79\n",
              "2        4.35\n",
              "3        3.77\n",
              "4        3.13\n",
              "         ... \n",
              "89192    3.91\n",
              "89193    3.56\n",
              "89194    4.23\n",
              "89195    3.77\n",
              "89196    4.31\n",
              "Name: engagement_score, Length: 89197, dtype: float64"
            ]
          },
          "metadata": {},
          "execution_count": 3
        }
      ]
    },
    {
      "cell_type": "code",
      "source": [
        "# here drop the label from feature\n",
        "train = train.drop(['engagement_score'], axis =1)\n",
        "test_rowid = test['row_id'] # reference for the final output"
      ],
      "metadata": {
        "id": "cX9z1P9bF1te"
      },
      "execution_count": 4,
      "outputs": []
    },
    {
      "cell_type": "code",
      "execution_count": 5,
      "metadata": {
        "id": "URtj2Mci_rNo"
      },
      "outputs": [],
      "source": [
        "# Concatenate the data set \n",
        "data = pd.concat([train, test], axis=0).reset_index(drop=True)"
      ]
    },
    {
      "cell_type": "code",
      "execution_count": 6,
      "metadata": {
        "colab": {
          "base_uri": "https://localhost:8080/",
          "height": 423
        },
        "id": "4B8nAxK4ANr_",
        "outputId": "92897ffd-ae76-4b78-b3e8-daa5ef7b49af"
      },
      "outputs": [
        {
          "output_type": "execute_result",
          "data": {
            "text/html": [
              "\n",
              "  <div id=\"df-397f4388-6f8e-4986-b879-a4b5dc5d214a\">\n",
              "    <div class=\"colab-df-container\">\n",
              "      <div>\n",
              "<style scoped>\n",
              "    .dataframe tbody tr th:only-of-type {\n",
              "        vertical-align: middle;\n",
              "    }\n",
              "\n",
              "    .dataframe tbody tr th {\n",
              "        vertical-align: top;\n",
              "    }\n",
              "\n",
              "    .dataframe thead th {\n",
              "        text-align: right;\n",
              "    }\n",
              "</style>\n",
              "<table border=\"1\" class=\"dataframe\">\n",
              "  <thead>\n",
              "    <tr style=\"text-align: right;\">\n",
              "      <th></th>\n",
              "      <th>row_id</th>\n",
              "      <th>user_id</th>\n",
              "      <th>category_id</th>\n",
              "      <th>video_id</th>\n",
              "      <th>age</th>\n",
              "      <th>gender</th>\n",
              "      <th>profession</th>\n",
              "      <th>followers</th>\n",
              "      <th>views</th>\n",
              "    </tr>\n",
              "  </thead>\n",
              "  <tbody>\n",
              "    <tr>\n",
              "      <th>0</th>\n",
              "      <td>1</td>\n",
              "      <td>19990</td>\n",
              "      <td>37</td>\n",
              "      <td>128</td>\n",
              "      <td>24</td>\n",
              "      <td>Male</td>\n",
              "      <td>Student</td>\n",
              "      <td>180</td>\n",
              "      <td>1000</td>\n",
              "    </tr>\n",
              "    <tr>\n",
              "      <th>1</th>\n",
              "      <td>2</td>\n",
              "      <td>5304</td>\n",
              "      <td>32</td>\n",
              "      <td>132</td>\n",
              "      <td>14</td>\n",
              "      <td>Female</td>\n",
              "      <td>Student</td>\n",
              "      <td>330</td>\n",
              "      <td>714</td>\n",
              "    </tr>\n",
              "    <tr>\n",
              "      <th>2</th>\n",
              "      <td>3</td>\n",
              "      <td>1840</td>\n",
              "      <td>12</td>\n",
              "      <td>24</td>\n",
              "      <td>19</td>\n",
              "      <td>Male</td>\n",
              "      <td>Student</td>\n",
              "      <td>180</td>\n",
              "      <td>138</td>\n",
              "    </tr>\n",
              "    <tr>\n",
              "      <th>3</th>\n",
              "      <td>4</td>\n",
              "      <td>12597</td>\n",
              "      <td>23</td>\n",
              "      <td>112</td>\n",
              "      <td>19</td>\n",
              "      <td>Male</td>\n",
              "      <td>Student</td>\n",
              "      <td>220</td>\n",
              "      <td>613</td>\n",
              "    </tr>\n",
              "    <tr>\n",
              "      <th>4</th>\n",
              "      <td>5</td>\n",
              "      <td>13626</td>\n",
              "      <td>23</td>\n",
              "      <td>112</td>\n",
              "      <td>27</td>\n",
              "      <td>Male</td>\n",
              "      <td>Working Professional</td>\n",
              "      <td>220</td>\n",
              "      <td>613</td>\n",
              "    </tr>\n",
              "    <tr>\n",
              "      <th>...</th>\n",
              "      <td>...</td>\n",
              "      <td>...</td>\n",
              "      <td>...</td>\n",
              "      <td>...</td>\n",
              "      <td>...</td>\n",
              "      <td>...</td>\n",
              "      <td>...</td>\n",
              "      <td>...</td>\n",
              "      <td>...</td>\n",
              "    </tr>\n",
              "    <tr>\n",
              "      <th>100313</th>\n",
              "      <td>100314</td>\n",
              "      <td>26336</td>\n",
              "      <td>25</td>\n",
              "      <td>140</td>\n",
              "      <td>21</td>\n",
              "      <td>Male</td>\n",
              "      <td>Student</td>\n",
              "      <td>240</td>\n",
              "      <td>317</td>\n",
              "    </tr>\n",
              "    <tr>\n",
              "      <th>100314</th>\n",
              "      <td>100315</td>\n",
              "      <td>6772</td>\n",
              "      <td>8</td>\n",
              "      <td>100</td>\n",
              "      <td>19</td>\n",
              "      <td>Female</td>\n",
              "      <td>Student</td>\n",
              "      <td>280</td>\n",
              "      <td>628</td>\n",
              "    </tr>\n",
              "    <tr>\n",
              "      <th>100315</th>\n",
              "      <td>100316</td>\n",
              "      <td>2042</td>\n",
              "      <td>16</td>\n",
              "      <td>98</td>\n",
              "      <td>22</td>\n",
              "      <td>Male</td>\n",
              "      <td>Student</td>\n",
              "      <td>270</td>\n",
              "      <td>462</td>\n",
              "    </tr>\n",
              "    <tr>\n",
              "      <th>100316</th>\n",
              "      <td>100317</td>\n",
              "      <td>24626</td>\n",
              "      <td>8</td>\n",
              "      <td>16</td>\n",
              "      <td>33</td>\n",
              "      <td>Male</td>\n",
              "      <td>Other</td>\n",
              "      <td>280</td>\n",
              "      <td>628</td>\n",
              "    </tr>\n",
              "    <tr>\n",
              "      <th>100317</th>\n",
              "      <td>100318</td>\n",
              "      <td>967</td>\n",
              "      <td>8</td>\n",
              "      <td>74</td>\n",
              "      <td>33</td>\n",
              "      <td>Male</td>\n",
              "      <td>Working Professional</td>\n",
              "      <td>280</td>\n",
              "      <td>628</td>\n",
              "    </tr>\n",
              "  </tbody>\n",
              "</table>\n",
              "<p>100318 rows × 9 columns</p>\n",
              "</div>\n",
              "      <button class=\"colab-df-convert\" onclick=\"convertToInteractive('df-397f4388-6f8e-4986-b879-a4b5dc5d214a')\"\n",
              "              title=\"Convert this dataframe to an interactive table.\"\n",
              "              style=\"display:none;\">\n",
              "        \n",
              "  <svg xmlns=\"http://www.w3.org/2000/svg\" height=\"24px\"viewBox=\"0 0 24 24\"\n",
              "       width=\"24px\">\n",
              "    <path d=\"M0 0h24v24H0V0z\" fill=\"none\"/>\n",
              "    <path d=\"M18.56 5.44l.94 2.06.94-2.06 2.06-.94-2.06-.94-.94-2.06-.94 2.06-2.06.94zm-11 1L8.5 8.5l.94-2.06 2.06-.94-2.06-.94L8.5 2.5l-.94 2.06-2.06.94zm10 10l.94 2.06.94-2.06 2.06-.94-2.06-.94-.94-2.06-.94 2.06-2.06.94z\"/><path d=\"M17.41 7.96l-1.37-1.37c-.4-.4-.92-.59-1.43-.59-.52 0-1.04.2-1.43.59L10.3 9.45l-7.72 7.72c-.78.78-.78 2.05 0 2.83L4 21.41c.39.39.9.59 1.41.59.51 0 1.02-.2 1.41-.59l7.78-7.78 2.81-2.81c.8-.78.8-2.07 0-2.86zM5.41 20L4 18.59l7.72-7.72 1.47 1.35L5.41 20z\"/>\n",
              "  </svg>\n",
              "      </button>\n",
              "      \n",
              "  <style>\n",
              "    .colab-df-container {\n",
              "      display:flex;\n",
              "      flex-wrap:wrap;\n",
              "      gap: 12px;\n",
              "    }\n",
              "\n",
              "    .colab-df-convert {\n",
              "      background-color: #E8F0FE;\n",
              "      border: none;\n",
              "      border-radius: 50%;\n",
              "      cursor: pointer;\n",
              "      display: none;\n",
              "      fill: #1967D2;\n",
              "      height: 32px;\n",
              "      padding: 0 0 0 0;\n",
              "      width: 32px;\n",
              "    }\n",
              "\n",
              "    .colab-df-convert:hover {\n",
              "      background-color: #E2EBFA;\n",
              "      box-shadow: 0px 1px 2px rgba(60, 64, 67, 0.3), 0px 1px 3px 1px rgba(60, 64, 67, 0.15);\n",
              "      fill: #174EA6;\n",
              "    }\n",
              "\n",
              "    [theme=dark] .colab-df-convert {\n",
              "      background-color: #3B4455;\n",
              "      fill: #D2E3FC;\n",
              "    }\n",
              "\n",
              "    [theme=dark] .colab-df-convert:hover {\n",
              "      background-color: #434B5C;\n",
              "      box-shadow: 0px 1px 3px 1px rgba(0, 0, 0, 0.15);\n",
              "      filter: drop-shadow(0px 1px 2px rgba(0, 0, 0, 0.3));\n",
              "      fill: #FFFFFF;\n",
              "    }\n",
              "  </style>\n",
              "\n",
              "      <script>\n",
              "        const buttonEl =\n",
              "          document.querySelector('#df-397f4388-6f8e-4986-b879-a4b5dc5d214a button.colab-df-convert');\n",
              "        buttonEl.style.display =\n",
              "          google.colab.kernel.accessAllowed ? 'block' : 'none';\n",
              "\n",
              "        async function convertToInteractive(key) {\n",
              "          const element = document.querySelector('#df-397f4388-6f8e-4986-b879-a4b5dc5d214a');\n",
              "          const dataTable =\n",
              "            await google.colab.kernel.invokeFunction('convertToInteractive',\n",
              "                                                     [key], {});\n",
              "          if (!dataTable) return;\n",
              "\n",
              "          const docLinkHtml = 'Like what you see? Visit the ' +\n",
              "            '<a target=\"_blank\" href=https://colab.research.google.com/notebooks/data_table.ipynb>data table notebook</a>'\n",
              "            + ' to learn more about interactive tables.';\n",
              "          element.innerHTML = '';\n",
              "          dataTable['output_type'] = 'display_data';\n",
              "          await google.colab.output.renderOutput(dataTable, element);\n",
              "          const docLink = document.createElement('div');\n",
              "          docLink.innerHTML = docLinkHtml;\n",
              "          element.appendChild(docLink);\n",
              "        }\n",
              "      </script>\n",
              "    </div>\n",
              "  </div>\n",
              "  "
            ],
            "text/plain": [
              "        row_id  user_id  category_id  ...            profession  followers views\n",
              "0            1    19990           37  ...               Student        180  1000\n",
              "1            2     5304           32  ...               Student        330   714\n",
              "2            3     1840           12  ...               Student        180   138\n",
              "3            4    12597           23  ...               Student        220   613\n",
              "4            5    13626           23  ...  Working Professional        220   613\n",
              "...        ...      ...          ...  ...                   ...        ...   ...\n",
              "100313  100314    26336           25  ...               Student        240   317\n",
              "100314  100315     6772            8  ...               Student        280   628\n",
              "100315  100316     2042           16  ...               Student        270   462\n",
              "100316  100317    24626            8  ...                 Other        280   628\n",
              "100317  100318      967            8  ...  Working Professional        280   628\n",
              "\n",
              "[100318 rows x 9 columns]"
            ]
          },
          "metadata": {},
          "execution_count": 6
        }
      ],
      "source": [
        "# EDA head()\n",
        "data"
      ]
    },
    {
      "cell_type": "code",
      "execution_count": 7,
      "metadata": {
        "colab": {
          "base_uri": "https://localhost:8080/"
        },
        "id": "SBMHc0lTBlq2",
        "outputId": "8e9f51a1-c283-485d-f108-cb410acea6ae"
      },
      "outputs": [
        {
          "output_type": "execute_result",
          "data": {
            "text/plain": [
              "(100318, 9)"
            ]
          },
          "metadata": {},
          "execution_count": 7
        }
      ],
      "source": [
        "# check the shape of the data\n",
        "data.shape"
      ]
    },
    {
      "cell_type": "code",
      "execution_count": 8,
      "metadata": {
        "colab": {
          "base_uri": "https://localhost:8080/"
        },
        "id": "kXYWqVfXCZQ1",
        "outputId": "05a82ad2-a668-418e-bef3-ca8523ab58cf"
      },
      "outputs": [
        {
          "output_type": "stream",
          "name": "stdout",
          "text": [
            "<class 'pandas.core.frame.DataFrame'>\n",
            "RangeIndex: 100318 entries, 0 to 100317\n",
            "Data columns (total 9 columns):\n",
            " #   Column       Non-Null Count   Dtype \n",
            "---  ------       --------------   ----- \n",
            " 0   row_id       100318 non-null  int64 \n",
            " 1   user_id      100318 non-null  int64 \n",
            " 2   category_id  100318 non-null  int64 \n",
            " 3   video_id     100318 non-null  int64 \n",
            " 4   age          100318 non-null  int64 \n",
            " 5   gender       100318 non-null  object\n",
            " 6   profession   100318 non-null  object\n",
            " 7   followers    100318 non-null  int64 \n",
            " 8   views        100318 non-null  int64 \n",
            "dtypes: int64(7), object(2)\n",
            "memory usage: 6.9+ MB\n"
          ]
        }
      ],
      "source": [
        "# 100318- observations , 10- variables\n",
        "# info of the dataset\n",
        "# pd.set_option('display.max_rows', None)\n",
        "data.info()"
      ]
    },
    {
      "cell_type": "code",
      "execution_count": 9,
      "metadata": {
        "colab": {
          "base_uri": "https://localhost:8080/",
          "height": 300
        },
        "id": "OcCXYghKCpu7",
        "outputId": "eff0dd50-77ed-44ac-ec2d-d5c63bf1e827"
      },
      "outputs": [
        {
          "output_type": "execute_result",
          "data": {
            "text/html": [
              "\n",
              "  <div id=\"df-6a05d583-ffb8-4e11-9daa-d660bf6278d7\">\n",
              "    <div class=\"colab-df-container\">\n",
              "      <div>\n",
              "<style scoped>\n",
              "    .dataframe tbody tr th:only-of-type {\n",
              "        vertical-align: middle;\n",
              "    }\n",
              "\n",
              "    .dataframe tbody tr th {\n",
              "        vertical-align: top;\n",
              "    }\n",
              "\n",
              "    .dataframe thead th {\n",
              "        text-align: right;\n",
              "    }\n",
              "</style>\n",
              "<table border=\"1\" class=\"dataframe\">\n",
              "  <thead>\n",
              "    <tr style=\"text-align: right;\">\n",
              "      <th></th>\n",
              "      <th>row_id</th>\n",
              "      <th>user_id</th>\n",
              "      <th>category_id</th>\n",
              "      <th>video_id</th>\n",
              "      <th>age</th>\n",
              "      <th>followers</th>\n",
              "      <th>views</th>\n",
              "    </tr>\n",
              "  </thead>\n",
              "  <tbody>\n",
              "    <tr>\n",
              "      <th>count</th>\n",
              "      <td>100318.000000</td>\n",
              "      <td>100318.000000</td>\n",
              "      <td>100318.000000</td>\n",
              "      <td>100318.000000</td>\n",
              "      <td>100318.000000</td>\n",
              "      <td>100318.000000</td>\n",
              "      <td>100318.000000</td>\n",
              "    </tr>\n",
              "    <tr>\n",
              "      <th>mean</th>\n",
              "      <td>50159.500000</td>\n",
              "      <td>13875.679350</td>\n",
              "      <td>18.029157</td>\n",
              "      <td>77.940110</td>\n",
              "      <td>24.849229</td>\n",
              "      <td>252.153253</td>\n",
              "      <td>497.656861</td>\n",
              "    </tr>\n",
              "    <tr>\n",
              "      <th>std</th>\n",
              "      <td>28959.456489</td>\n",
              "      <td>8005.079041</td>\n",
              "      <td>11.562197</td>\n",
              "      <td>48.499456</td>\n",
              "      <td>8.955318</td>\n",
              "      <td>45.324580</td>\n",
              "      <td>266.974474</td>\n",
              "    </tr>\n",
              "    <tr>\n",
              "      <th>min</th>\n",
              "      <td>1.000000</td>\n",
              "      <td>1.000000</td>\n",
              "      <td>1.000000</td>\n",
              "      <td>1.000000</td>\n",
              "      <td>10.000000</td>\n",
              "      <td>160.000000</td>\n",
              "      <td>30.000000</td>\n",
              "    </tr>\n",
              "    <tr>\n",
              "      <th>25%</th>\n",
              "      <td>25080.250000</td>\n",
              "      <td>6938.250000</td>\n",
              "      <td>8.000000</td>\n",
              "      <td>35.000000</td>\n",
              "      <td>18.000000</td>\n",
              "      <td>230.000000</td>\n",
              "      <td>229.000000</td>\n",
              "    </tr>\n",
              "    <tr>\n",
              "      <th>50%</th>\n",
              "      <td>50159.500000</td>\n",
              "      <td>13889.000000</td>\n",
              "      <td>16.000000</td>\n",
              "      <td>76.000000</td>\n",
              "      <td>23.000000</td>\n",
              "      <td>240.000000</td>\n",
              "      <td>467.000000</td>\n",
              "    </tr>\n",
              "    <tr>\n",
              "      <th>75%</th>\n",
              "      <td>75238.750000</td>\n",
              "      <td>20813.000000</td>\n",
              "      <td>26.000000</td>\n",
              "      <td>121.000000</td>\n",
              "      <td>32.000000</td>\n",
              "      <td>280.000000</td>\n",
              "      <td>709.000000</td>\n",
              "    </tr>\n",
              "    <tr>\n",
              "      <th>max</th>\n",
              "      <td>100318.000000</td>\n",
              "      <td>27734.000000</td>\n",
              "      <td>47.000000</td>\n",
              "      <td>175.000000</td>\n",
              "      <td>68.000000</td>\n",
              "      <td>360.000000</td>\n",
              "      <td>1000.000000</td>\n",
              "    </tr>\n",
              "  </tbody>\n",
              "</table>\n",
              "</div>\n",
              "      <button class=\"colab-df-convert\" onclick=\"convertToInteractive('df-6a05d583-ffb8-4e11-9daa-d660bf6278d7')\"\n",
              "              title=\"Convert this dataframe to an interactive table.\"\n",
              "              style=\"display:none;\">\n",
              "        \n",
              "  <svg xmlns=\"http://www.w3.org/2000/svg\" height=\"24px\"viewBox=\"0 0 24 24\"\n",
              "       width=\"24px\">\n",
              "    <path d=\"M0 0h24v24H0V0z\" fill=\"none\"/>\n",
              "    <path d=\"M18.56 5.44l.94 2.06.94-2.06 2.06-.94-2.06-.94-.94-2.06-.94 2.06-2.06.94zm-11 1L8.5 8.5l.94-2.06 2.06-.94-2.06-.94L8.5 2.5l-.94 2.06-2.06.94zm10 10l.94 2.06.94-2.06 2.06-.94-2.06-.94-.94-2.06-.94 2.06-2.06.94z\"/><path d=\"M17.41 7.96l-1.37-1.37c-.4-.4-.92-.59-1.43-.59-.52 0-1.04.2-1.43.59L10.3 9.45l-7.72 7.72c-.78.78-.78 2.05 0 2.83L4 21.41c.39.39.9.59 1.41.59.51 0 1.02-.2 1.41-.59l7.78-7.78 2.81-2.81c.8-.78.8-2.07 0-2.86zM5.41 20L4 18.59l7.72-7.72 1.47 1.35L5.41 20z\"/>\n",
              "  </svg>\n",
              "      </button>\n",
              "      \n",
              "  <style>\n",
              "    .colab-df-container {\n",
              "      display:flex;\n",
              "      flex-wrap:wrap;\n",
              "      gap: 12px;\n",
              "    }\n",
              "\n",
              "    .colab-df-convert {\n",
              "      background-color: #E8F0FE;\n",
              "      border: none;\n",
              "      border-radius: 50%;\n",
              "      cursor: pointer;\n",
              "      display: none;\n",
              "      fill: #1967D2;\n",
              "      height: 32px;\n",
              "      padding: 0 0 0 0;\n",
              "      width: 32px;\n",
              "    }\n",
              "\n",
              "    .colab-df-convert:hover {\n",
              "      background-color: #E2EBFA;\n",
              "      box-shadow: 0px 1px 2px rgba(60, 64, 67, 0.3), 0px 1px 3px 1px rgba(60, 64, 67, 0.15);\n",
              "      fill: #174EA6;\n",
              "    }\n",
              "\n",
              "    [theme=dark] .colab-df-convert {\n",
              "      background-color: #3B4455;\n",
              "      fill: #D2E3FC;\n",
              "    }\n",
              "\n",
              "    [theme=dark] .colab-df-convert:hover {\n",
              "      background-color: #434B5C;\n",
              "      box-shadow: 0px 1px 3px 1px rgba(0, 0, 0, 0.15);\n",
              "      filter: drop-shadow(0px 1px 2px rgba(0, 0, 0, 0.3));\n",
              "      fill: #FFFFFF;\n",
              "    }\n",
              "  </style>\n",
              "\n",
              "      <script>\n",
              "        const buttonEl =\n",
              "          document.querySelector('#df-6a05d583-ffb8-4e11-9daa-d660bf6278d7 button.colab-df-convert');\n",
              "        buttonEl.style.display =\n",
              "          google.colab.kernel.accessAllowed ? 'block' : 'none';\n",
              "\n",
              "        async function convertToInteractive(key) {\n",
              "          const element = document.querySelector('#df-6a05d583-ffb8-4e11-9daa-d660bf6278d7');\n",
              "          const dataTable =\n",
              "            await google.colab.kernel.invokeFunction('convertToInteractive',\n",
              "                                                     [key], {});\n",
              "          if (!dataTable) return;\n",
              "\n",
              "          const docLinkHtml = 'Like what you see? Visit the ' +\n",
              "            '<a target=\"_blank\" href=https://colab.research.google.com/notebooks/data_table.ipynb>data table notebook</a>'\n",
              "            + ' to learn more about interactive tables.';\n",
              "          element.innerHTML = '';\n",
              "          dataTable['output_type'] = 'display_data';\n",
              "          await google.colab.output.renderOutput(dataTable, element);\n",
              "          const docLink = document.createElement('div');\n",
              "          docLink.innerHTML = docLinkHtml;\n",
              "          element.appendChild(docLink);\n",
              "        }\n",
              "      </script>\n",
              "    </div>\n",
              "  </div>\n",
              "  "
            ],
            "text/plain": [
              "              row_id        user_id  ...      followers          views\n",
              "count  100318.000000  100318.000000  ...  100318.000000  100318.000000\n",
              "mean    50159.500000   13875.679350  ...     252.153253     497.656861\n",
              "std     28959.456489    8005.079041  ...      45.324580     266.974474\n",
              "min         1.000000       1.000000  ...     160.000000      30.000000\n",
              "25%     25080.250000    6938.250000  ...     230.000000     229.000000\n",
              "50%     50159.500000   13889.000000  ...     240.000000     467.000000\n",
              "75%     75238.750000   20813.000000  ...     280.000000     709.000000\n",
              "max    100318.000000   27734.000000  ...     360.000000    1000.000000\n",
              "\n",
              "[8 rows x 7 columns]"
            ]
          },
          "metadata": {},
          "execution_count": 9
        }
      ],
      "source": [
        "# how data spread for numerical values\n",
        "data.describe()"
      ]
    },
    {
      "cell_type": "code",
      "execution_count": 10,
      "metadata": {
        "colab": {
          "base_uri": "https://localhost:8080/"
        },
        "id": "Czi09L1kCtha",
        "outputId": "21bfa877-95ee-446c-f7ec-112c30601745"
      },
      "outputs": [
        {
          "output_type": "execute_result",
          "data": {
            "text/plain": [
              "0         False\n",
              "1         False\n",
              "2         False\n",
              "3         False\n",
              "4         False\n",
              "          ...  \n",
              "100313    False\n",
              "100314    False\n",
              "100315    False\n",
              "100316    False\n",
              "100317    False\n",
              "Length: 100318, dtype: bool"
            ]
          },
          "metadata": {},
          "execution_count": 10
        }
      ],
      "source": [
        "# no missing values\n",
        "# check the duplicate values \n",
        "duplicate = data.duplicated()\n",
        "duplicate"
      ]
    },
    {
      "cell_type": "code",
      "execution_count": 11,
      "metadata": {
        "id": "Zuw3BY2EHpkA"
      },
      "outputs": [],
      "source": [
        "# label encoder for categorical data 'gender' and 'profession'\n",
        "from sklearn.preprocessing import LabelEncoder\n",
        "le = LabelEncoder()"
      ]
    },
    {
      "cell_type": "code",
      "execution_count": 12,
      "metadata": {
        "colab": {
          "base_uri": "https://localhost:8080/"
        },
        "id": "VSGWSTvOH0-R",
        "outputId": "a677bfc2-d8d5-4027-a41a-714ab4e43b84"
      },
      "outputs": [
        {
          "output_type": "stream",
          "name": "stdout",
          "text": [
            "<class 'pandas.core.frame.DataFrame'>\n",
            "RangeIndex: 100318 entries, 0 to 100317\n",
            "Data columns (total 9 columns):\n",
            " #   Column       Non-Null Count   Dtype\n",
            "---  ------       --------------   -----\n",
            " 0   row_id       100318 non-null  int64\n",
            " 1   user_id      100318 non-null  int64\n",
            " 2   category_id  100318 non-null  int64\n",
            " 3   video_id     100318 non-null  int64\n",
            " 4   age          100318 non-null  int64\n",
            " 5   gender       100318 non-null  int64\n",
            " 6   profession   100318 non-null  int64\n",
            " 7   followers    100318 non-null  int64\n",
            " 8   views        100318 non-null  int64\n",
            "dtypes: int64(9)\n",
            "memory usage: 6.9 MB\n"
          ]
        }
      ],
      "source": [
        "# using the label encoder convert to numeric for machine can understand only numerical value\n",
        "data['gender'] = le.fit_transform(data['gender'])\n",
        "data['profession'] = le.fit_transform(data['profession'])\n",
        "data.info()\n"
      ]
    },
    {
      "cell_type": "code",
      "source": [
        "# change to array from dataframe so that we can fit the model using .values in pandas\n",
        "temp = data.values\n",
        "temp"
      ],
      "metadata": {
        "colab": {
          "base_uri": "https://localhost:8080/"
        },
        "id": "clh-AmU7HEzK",
        "outputId": "24dbd475-f7a4-4bdd-d52d-e95ed104cf0e"
      },
      "execution_count": 13,
      "outputs": [
        {
          "output_type": "execute_result",
          "data": {
            "text/plain": [
              "array([[     1,  19990,     37, ...,      1,    180,   1000],\n",
              "       [     2,   5304,     32, ...,      1,    330,    714],\n",
              "       [     3,   1840,     12, ...,      1,    180,    138],\n",
              "       ...,\n",
              "       [100316,   2042,     16, ...,      1,    270,    462],\n",
              "       [100317,  24626,      8, ...,      0,    280,    628],\n",
              "       [100318,    967,      8, ...,      2,    280,    628]])"
            ]
          },
          "metadata": {},
          "execution_count": 13
        }
      ]
    },
    {
      "cell_type": "code",
      "execution_count": 14,
      "metadata": {
        "id": "Dg40fnazG0Vz",
        "colab": {
          "base_uri": "https://localhost:8080/"
        },
        "outputId": "36890c21-32b9-4dbe-b5c5-09ff8a9bf16e"
      },
      "outputs": [
        {
          "output_type": "execute_result",
          "data": {
            "text/plain": [
              "(array([[    1, 19990,    37, ...,     1,   180,  1000],\n",
              "        [    2,  5304,    32, ...,     1,   330,   714],\n",
              "        [    3,  1840,    12, ...,     1,   180,   138],\n",
              "        ...,\n",
              "        [89195, 13655,    16, ...,     1,   270,   462],\n",
              "        [89196, 24840,     9, ...,     2,   230,   819],\n",
              "        [89197, 27183,    25, ...,     1,   240,   317]]),\n",
              " array([[ 89198,   7986,     12, ...,      1,    180,    138],\n",
              "        [ 89199,  11278,     34, ...,      1,    230,    840],\n",
              "        [ 89200,  17245,      8, ...,      2,    280,    628],\n",
              "        ...,\n",
              "        [100316,   2042,     16, ...,      1,    270,    462],\n",
              "        [100317,  24626,      8, ...,      0,    280,    628],\n",
              "        [100318,    967,      8, ...,      2,    280,    628]]))"
            ]
          },
          "metadata": {},
          "execution_count": 14
        }
      ],
      "source": [
        "# now changed to pandas then split as per the given data set from job-a-thon event\n",
        "train = temp[:89197]\n",
        "test = temp[89197:]\n",
        "train, test"
      ]
    },
    {
      "cell_type": "code",
      "source": [
        "# importing train test split\n",
        "from sklearn.model_selection import train_test_split\n",
        "X_train, X_test, y_train, y_test = train_test_split(train, outcome, test_size = 0.3, random_state = 0)"
      ],
      "metadata": {
        "id": "5_Cml18EIQiP"
      },
      "execution_count": 15,
      "outputs": []
    },
    {
      "cell_type": "code",
      "source": [
        "# here we use the linear regression model because of label is numerical value this is a regression problem that why\n",
        "from sklearn.linear_model import LinearRegression"
      ],
      "metadata": {
        "id": "66qaLZX8UUpB"
      },
      "execution_count": 16,
      "outputs": []
    },
    {
      "cell_type": "code",
      "source": [
        "# fit the model then predict using the test data\n",
        "linear_regression = LinearRegression()\n",
        "linear_regression.fit(X_train, y_train)\n",
        "predictions = linear_regression.predict(X_test)"
      ],
      "metadata": {
        "id": "CYzXvlRcUPOk"
      },
      "execution_count": 18,
      "outputs": []
    },
    {
      "cell_type": "code",
      "source": [
        "# importing r2 score for accuracy purpose \n",
        "from sklearn.metrics import r2_score\n",
        "# check the engagement_score using r2 score\n",
        "score = r2_score(y_test, predictions)\n",
        "score"
      ],
      "metadata": {
        "colab": {
          "base_uri": "https://localhost:8080/"
        },
        "id": "hR-fTdj-UPRP",
        "outputId": "4e270ba6-ec07-4ef2-ea02-10b65e5a857a"
      },
      "execution_count": 25,
      "outputs": [
        {
          "output_type": "execute_result",
          "data": {
            "text/plain": [
              "0.24273396883727627"
            ]
          },
          "metadata": {},
          "execution_count": 25
        }
      ]
    },
    {
      "cell_type": "code",
      "source": [
        "# here prediction for test data set\n",
        "prediction = linear_regression.predict(test)\n",
        "prediction"
      ],
      "metadata": {
        "colab": {
          "base_uri": "https://localhost:8080/"
        },
        "id": "y4LdMPmqVJa1",
        "outputId": "2722113a-7238-462f-e506-8cb467345acd"
      },
      "execution_count": 21,
      "outputs": [
        {
          "output_type": "execute_result",
          "data": {
            "text/plain": [
              "array([4.07531396, 3.8121079 , 2.60246022, ..., 3.85896581, 3.69906607,\n",
              "       3.54098126])"
            ]
          },
          "metadata": {},
          "execution_count": 21
        }
      ]
    },
    {
      "cell_type": "code",
      "source": [
        "# here we convert from array to dataframe \n",
        "prediction = pd.DataFrame(prediction)\n",
        "prediction.columns = ['engagement_score']\n",
        "df = pd.DataFrame()\n",
        "df['row_id'] = test_rowid\n",
        "prediction"
      ],
      "metadata": {
        "colab": {
          "base_uri": "https://localhost:8080/",
          "height": 423
        },
        "id": "mTjBGdTWXAxg",
        "outputId": "6a2b6f31-be32-41c1-fac6-5c63030331e9"
      },
      "execution_count": 22,
      "outputs": [
        {
          "output_type": "execute_result",
          "data": {
            "text/html": [
              "\n",
              "  <div id=\"df-74c88680-9df2-49e7-a27c-4d6b4567deea\">\n",
              "    <div class=\"colab-df-container\">\n",
              "      <div>\n",
              "<style scoped>\n",
              "    .dataframe tbody tr th:only-of-type {\n",
              "        vertical-align: middle;\n",
              "    }\n",
              "\n",
              "    .dataframe tbody tr th {\n",
              "        vertical-align: top;\n",
              "    }\n",
              "\n",
              "    .dataframe thead th {\n",
              "        text-align: right;\n",
              "    }\n",
              "</style>\n",
              "<table border=\"1\" class=\"dataframe\">\n",
              "  <thead>\n",
              "    <tr style=\"text-align: right;\">\n",
              "      <th></th>\n",
              "      <th>engagement_score</th>\n",
              "    </tr>\n",
              "  </thead>\n",
              "  <tbody>\n",
              "    <tr>\n",
              "      <th>0</th>\n",
              "      <td>4.075314</td>\n",
              "    </tr>\n",
              "    <tr>\n",
              "      <th>1</th>\n",
              "      <td>3.812108</td>\n",
              "    </tr>\n",
              "    <tr>\n",
              "      <th>2</th>\n",
              "      <td>2.602460</td>\n",
              "    </tr>\n",
              "    <tr>\n",
              "      <th>3</th>\n",
              "      <td>3.962550</td>\n",
              "    </tr>\n",
              "    <tr>\n",
              "      <th>4</th>\n",
              "      <td>2.451964</td>\n",
              "    </tr>\n",
              "    <tr>\n",
              "      <th>...</th>\n",
              "      <td>...</td>\n",
              "    </tr>\n",
              "    <tr>\n",
              "      <th>11116</th>\n",
              "      <td>3.843967</td>\n",
              "    </tr>\n",
              "    <tr>\n",
              "      <th>11117</th>\n",
              "      <td>3.245489</td>\n",
              "    </tr>\n",
              "    <tr>\n",
              "      <th>11118</th>\n",
              "      <td>3.858966</td>\n",
              "    </tr>\n",
              "    <tr>\n",
              "      <th>11119</th>\n",
              "      <td>3.699066</td>\n",
              "    </tr>\n",
              "    <tr>\n",
              "      <th>11120</th>\n",
              "      <td>3.540981</td>\n",
              "    </tr>\n",
              "  </tbody>\n",
              "</table>\n",
              "<p>11121 rows × 1 columns</p>\n",
              "</div>\n",
              "      <button class=\"colab-df-convert\" onclick=\"convertToInteractive('df-74c88680-9df2-49e7-a27c-4d6b4567deea')\"\n",
              "              title=\"Convert this dataframe to an interactive table.\"\n",
              "              style=\"display:none;\">\n",
              "        \n",
              "  <svg xmlns=\"http://www.w3.org/2000/svg\" height=\"24px\"viewBox=\"0 0 24 24\"\n",
              "       width=\"24px\">\n",
              "    <path d=\"M0 0h24v24H0V0z\" fill=\"none\"/>\n",
              "    <path d=\"M18.56 5.44l.94 2.06.94-2.06 2.06-.94-2.06-.94-.94-2.06-.94 2.06-2.06.94zm-11 1L8.5 8.5l.94-2.06 2.06-.94-2.06-.94L8.5 2.5l-.94 2.06-2.06.94zm10 10l.94 2.06.94-2.06 2.06-.94-2.06-.94-.94-2.06-.94 2.06-2.06.94z\"/><path d=\"M17.41 7.96l-1.37-1.37c-.4-.4-.92-.59-1.43-.59-.52 0-1.04.2-1.43.59L10.3 9.45l-7.72 7.72c-.78.78-.78 2.05 0 2.83L4 21.41c.39.39.9.59 1.41.59.51 0 1.02-.2 1.41-.59l7.78-7.78 2.81-2.81c.8-.78.8-2.07 0-2.86zM5.41 20L4 18.59l7.72-7.72 1.47 1.35L5.41 20z\"/>\n",
              "  </svg>\n",
              "      </button>\n",
              "      \n",
              "  <style>\n",
              "    .colab-df-container {\n",
              "      display:flex;\n",
              "      flex-wrap:wrap;\n",
              "      gap: 12px;\n",
              "    }\n",
              "\n",
              "    .colab-df-convert {\n",
              "      background-color: #E8F0FE;\n",
              "      border: none;\n",
              "      border-radius: 50%;\n",
              "      cursor: pointer;\n",
              "      display: none;\n",
              "      fill: #1967D2;\n",
              "      height: 32px;\n",
              "      padding: 0 0 0 0;\n",
              "      width: 32px;\n",
              "    }\n",
              "\n",
              "    .colab-df-convert:hover {\n",
              "      background-color: #E2EBFA;\n",
              "      box-shadow: 0px 1px 2px rgba(60, 64, 67, 0.3), 0px 1px 3px 1px rgba(60, 64, 67, 0.15);\n",
              "      fill: #174EA6;\n",
              "    }\n",
              "\n",
              "    [theme=dark] .colab-df-convert {\n",
              "      background-color: #3B4455;\n",
              "      fill: #D2E3FC;\n",
              "    }\n",
              "\n",
              "    [theme=dark] .colab-df-convert:hover {\n",
              "      background-color: #434B5C;\n",
              "      box-shadow: 0px 1px 3px 1px rgba(0, 0, 0, 0.15);\n",
              "      filter: drop-shadow(0px 1px 2px rgba(0, 0, 0, 0.3));\n",
              "      fill: #FFFFFF;\n",
              "    }\n",
              "  </style>\n",
              "\n",
              "      <script>\n",
              "        const buttonEl =\n",
              "          document.querySelector('#df-74c88680-9df2-49e7-a27c-4d6b4567deea button.colab-df-convert');\n",
              "        buttonEl.style.display =\n",
              "          google.colab.kernel.accessAllowed ? 'block' : 'none';\n",
              "\n",
              "        async function convertToInteractive(key) {\n",
              "          const element = document.querySelector('#df-74c88680-9df2-49e7-a27c-4d6b4567deea');\n",
              "          const dataTable =\n",
              "            await google.colab.kernel.invokeFunction('convertToInteractive',\n",
              "                                                     [key], {});\n",
              "          if (!dataTable) return;\n",
              "\n",
              "          const docLinkHtml = 'Like what you see? Visit the ' +\n",
              "            '<a target=\"_blank\" href=https://colab.research.google.com/notebooks/data_table.ipynb>data table notebook</a>'\n",
              "            + ' to learn more about interactive tables.';\n",
              "          element.innerHTML = '';\n",
              "          dataTable['output_type'] = 'display_data';\n",
              "          await google.colab.output.renderOutput(dataTable, element);\n",
              "          const docLink = document.createElement('div');\n",
              "          docLink.innerHTML = docLinkHtml;\n",
              "          element.appendChild(docLink);\n",
              "        }\n",
              "      </script>\n",
              "    </div>\n",
              "  </div>\n",
              "  "
            ],
            "text/plain": [
              "       engagement_score\n",
              "0              4.075314\n",
              "1              3.812108\n",
              "2              2.602460\n",
              "3              3.962550\n",
              "4              2.451964\n",
              "...                 ...\n",
              "11116          3.843967\n",
              "11117          3.245489\n",
              "11118          3.858966\n",
              "11119          3.699066\n",
              "11120          3.540981\n",
              "\n",
              "[11121 rows x 1 columns]"
            ]
          },
          "metadata": {},
          "execution_count": 22
        }
      ]
    },
    {
      "cell_type": "code",
      "source": [
        "# concat the row id and prediction \n",
        "prediction = pd.concat([df,prediction], axis=1)\n",
        "prediction"
      ],
      "metadata": {
        "colab": {
          "base_uri": "https://localhost:8080/",
          "height": 423
        },
        "id": "RBKjabyvYCuU",
        "outputId": "f0413da2-3a7b-4210-9165-7be32dda4f4a"
      },
      "execution_count": 23,
      "outputs": [
        {
          "output_type": "execute_result",
          "data": {
            "text/html": [
              "\n",
              "  <div id=\"df-2c5ed6e0-802b-4a6a-a7b1-a15580f89fc5\">\n",
              "    <div class=\"colab-df-container\">\n",
              "      <div>\n",
              "<style scoped>\n",
              "    .dataframe tbody tr th:only-of-type {\n",
              "        vertical-align: middle;\n",
              "    }\n",
              "\n",
              "    .dataframe tbody tr th {\n",
              "        vertical-align: top;\n",
              "    }\n",
              "\n",
              "    .dataframe thead th {\n",
              "        text-align: right;\n",
              "    }\n",
              "</style>\n",
              "<table border=\"1\" class=\"dataframe\">\n",
              "  <thead>\n",
              "    <tr style=\"text-align: right;\">\n",
              "      <th></th>\n",
              "      <th>row_id</th>\n",
              "      <th>engagement_score</th>\n",
              "    </tr>\n",
              "  </thead>\n",
              "  <tbody>\n",
              "    <tr>\n",
              "      <th>0</th>\n",
              "      <td>89198</td>\n",
              "      <td>4.075314</td>\n",
              "    </tr>\n",
              "    <tr>\n",
              "      <th>1</th>\n",
              "      <td>89199</td>\n",
              "      <td>3.812108</td>\n",
              "    </tr>\n",
              "    <tr>\n",
              "      <th>2</th>\n",
              "      <td>89200</td>\n",
              "      <td>2.602460</td>\n",
              "    </tr>\n",
              "    <tr>\n",
              "      <th>3</th>\n",
              "      <td>89201</td>\n",
              "      <td>3.962550</td>\n",
              "    </tr>\n",
              "    <tr>\n",
              "      <th>4</th>\n",
              "      <td>89202</td>\n",
              "      <td>2.451964</td>\n",
              "    </tr>\n",
              "    <tr>\n",
              "      <th>...</th>\n",
              "      <td>...</td>\n",
              "      <td>...</td>\n",
              "    </tr>\n",
              "    <tr>\n",
              "      <th>11116</th>\n",
              "      <td>100314</td>\n",
              "      <td>3.843967</td>\n",
              "    </tr>\n",
              "    <tr>\n",
              "      <th>11117</th>\n",
              "      <td>100315</td>\n",
              "      <td>3.245489</td>\n",
              "    </tr>\n",
              "    <tr>\n",
              "      <th>11118</th>\n",
              "      <td>100316</td>\n",
              "      <td>3.858966</td>\n",
              "    </tr>\n",
              "    <tr>\n",
              "      <th>11119</th>\n",
              "      <td>100317</td>\n",
              "      <td>3.699066</td>\n",
              "    </tr>\n",
              "    <tr>\n",
              "      <th>11120</th>\n",
              "      <td>100318</td>\n",
              "      <td>3.540981</td>\n",
              "    </tr>\n",
              "  </tbody>\n",
              "</table>\n",
              "<p>11121 rows × 2 columns</p>\n",
              "</div>\n",
              "      <button class=\"colab-df-convert\" onclick=\"convertToInteractive('df-2c5ed6e0-802b-4a6a-a7b1-a15580f89fc5')\"\n",
              "              title=\"Convert this dataframe to an interactive table.\"\n",
              "              style=\"display:none;\">\n",
              "        \n",
              "  <svg xmlns=\"http://www.w3.org/2000/svg\" height=\"24px\"viewBox=\"0 0 24 24\"\n",
              "       width=\"24px\">\n",
              "    <path d=\"M0 0h24v24H0V0z\" fill=\"none\"/>\n",
              "    <path d=\"M18.56 5.44l.94 2.06.94-2.06 2.06-.94-2.06-.94-.94-2.06-.94 2.06-2.06.94zm-11 1L8.5 8.5l.94-2.06 2.06-.94-2.06-.94L8.5 2.5l-.94 2.06-2.06.94zm10 10l.94 2.06.94-2.06 2.06-.94-2.06-.94-.94-2.06-.94 2.06-2.06.94z\"/><path d=\"M17.41 7.96l-1.37-1.37c-.4-.4-.92-.59-1.43-.59-.52 0-1.04.2-1.43.59L10.3 9.45l-7.72 7.72c-.78.78-.78 2.05 0 2.83L4 21.41c.39.39.9.59 1.41.59.51 0 1.02-.2 1.41-.59l7.78-7.78 2.81-2.81c.8-.78.8-2.07 0-2.86zM5.41 20L4 18.59l7.72-7.72 1.47 1.35L5.41 20z\"/>\n",
              "  </svg>\n",
              "      </button>\n",
              "      \n",
              "  <style>\n",
              "    .colab-df-container {\n",
              "      display:flex;\n",
              "      flex-wrap:wrap;\n",
              "      gap: 12px;\n",
              "    }\n",
              "\n",
              "    .colab-df-convert {\n",
              "      background-color: #E8F0FE;\n",
              "      border: none;\n",
              "      border-radius: 50%;\n",
              "      cursor: pointer;\n",
              "      display: none;\n",
              "      fill: #1967D2;\n",
              "      height: 32px;\n",
              "      padding: 0 0 0 0;\n",
              "      width: 32px;\n",
              "    }\n",
              "\n",
              "    .colab-df-convert:hover {\n",
              "      background-color: #E2EBFA;\n",
              "      box-shadow: 0px 1px 2px rgba(60, 64, 67, 0.3), 0px 1px 3px 1px rgba(60, 64, 67, 0.15);\n",
              "      fill: #174EA6;\n",
              "    }\n",
              "\n",
              "    [theme=dark] .colab-df-convert {\n",
              "      background-color: #3B4455;\n",
              "      fill: #D2E3FC;\n",
              "    }\n",
              "\n",
              "    [theme=dark] .colab-df-convert:hover {\n",
              "      background-color: #434B5C;\n",
              "      box-shadow: 0px 1px 3px 1px rgba(0, 0, 0, 0.15);\n",
              "      filter: drop-shadow(0px 1px 2px rgba(0, 0, 0, 0.3));\n",
              "      fill: #FFFFFF;\n",
              "    }\n",
              "  </style>\n",
              "\n",
              "      <script>\n",
              "        const buttonEl =\n",
              "          document.querySelector('#df-2c5ed6e0-802b-4a6a-a7b1-a15580f89fc5 button.colab-df-convert');\n",
              "        buttonEl.style.display =\n",
              "          google.colab.kernel.accessAllowed ? 'block' : 'none';\n",
              "\n",
              "        async function convertToInteractive(key) {\n",
              "          const element = document.querySelector('#df-2c5ed6e0-802b-4a6a-a7b1-a15580f89fc5');\n",
              "          const dataTable =\n",
              "            await google.colab.kernel.invokeFunction('convertToInteractive',\n",
              "                                                     [key], {});\n",
              "          if (!dataTable) return;\n",
              "\n",
              "          const docLinkHtml = 'Like what you see? Visit the ' +\n",
              "            '<a target=\"_blank\" href=https://colab.research.google.com/notebooks/data_table.ipynb>data table notebook</a>'\n",
              "            + ' to learn more about interactive tables.';\n",
              "          element.innerHTML = '';\n",
              "          dataTable['output_type'] = 'display_data';\n",
              "          await google.colab.output.renderOutput(dataTable, element);\n",
              "          const docLink = document.createElement('div');\n",
              "          docLink.innerHTML = docLinkHtml;\n",
              "          element.appendChild(docLink);\n",
              "        }\n",
              "      </script>\n",
              "    </div>\n",
              "  </div>\n",
              "  "
            ],
            "text/plain": [
              "       row_id  engagement_score\n",
              "0       89198          4.075314\n",
              "1       89199          3.812108\n",
              "2       89200          2.602460\n",
              "3       89201          3.962550\n",
              "4       89202          2.451964\n",
              "...       ...               ...\n",
              "11116  100314          3.843967\n",
              "11117  100315          3.245489\n",
              "11118  100316          3.858966\n",
              "11119  100317          3.699066\n",
              "11120  100318          3.540981\n",
              "\n",
              "[11121 rows x 2 columns]"
            ]
          },
          "metadata": {},
          "execution_count": 23
        }
      ]
    },
    {
      "cell_type": "code",
      "source": [
        "# finally our job is done and export csv file\n",
        "prediction.to_csv('/content/drive/My Drive/Engagement Score Prediction/testpred.csv')"
      ],
      "metadata": {
        "id": "NHtGoJ6xWnvD"
      },
      "execution_count": 24,
      "outputs": []
    }
  ],
  "metadata": {
    "colab": {
      "name": "Engagement Score Prediction.ipynb",
      "provenance": []
    },
    "kernelspec": {
      "display_name": "Python 3",
      "name": "python3"
    },
    "language_info": {
      "name": "python"
    }
  },
  "nbformat": 4,
  "nbformat_minor": 0
}